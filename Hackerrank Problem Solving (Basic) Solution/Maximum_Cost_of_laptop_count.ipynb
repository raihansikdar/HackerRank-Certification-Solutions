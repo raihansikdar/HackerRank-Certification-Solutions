{
 "cells": [
  {
   "cell_type": "markdown",
   "metadata": {},
   "source": [
    "#\n",
    "<img src = \"11.PNG\">"
   ]
  },
  {
   "cell_type": "markdown",
   "metadata": {},
   "source": [
    "#\n",
    "<img src = \"12.PNG\">"
   ]
  },
  {
   "cell_type": "markdown",
   "metadata": {},
   "source": [
    "#\n",
    "<img src = \"13.PNG\">"
   ]
  },
  {
   "cell_type": "markdown",
   "metadata": {},
   "source": [
    "#\n",
    "<img src = \"14.PNG\">"
   ]
  },
  {
   "cell_type": "code",
   "execution_count": null,
   "metadata": {},
   "outputs": [],
   "source": [
    "#!/bin/python3\n",
    "\n",
    "import math\n",
    "import os\n",
    "import random\n",
    "import re\n",
    "import sys\n",
    "\n",
    "\n",
    "\n",
    "#\n",
    "# Complete the 'maxCost' function below.\n",
    "#\n",
    "# The function is expected to return an INTEGER.\n",
    "# The function accepts following parameters:\n",
    "#  1. INTEGER_ARRAY cost\n",
    "#  2. STRING_ARRAY labels\n",
    "#  3. INTEGER dailyCount\n",
    "#\n",
    "\n",
    "def maxCost(cost, labels, dailyCount):\n",
    "    ans = 0\n",
    "    cur_cnt = 0\n",
    "    cur_cost = 0\n",
    "    for c, l in zip(cost, labels):\n",
    "        cur_cost += c\n",
    "        if l == \"illegal\":\n",
    "            continue\n",
    "        cur_cnt += 1\n",
    "        if cur_cnt == dailyCount:\n",
    "            ans = max(ans, cur_cost)\n",
    "            cur_cnt = 0\n",
    "            cur_cost = 0\n",
    "    return ans\n",
    "\n",
    "if __name__ == '__main__':\n",
    "    fptr = open(os.environ['OUTPUT_PATH'], 'w')\n",
    "\n",
    "    cost_count = int(input().strip())\n",
    "\n",
    "    cost = []\n",
    "\n",
    "    for _ in range(cost_count):\n",
    "        cost_item = int(input().strip())\n",
    "        cost.append(cost_item)\n",
    "\n",
    "    labels_count = int(input().strip())\n",
    "\n",
    "    labels = []\n",
    "\n",
    "    for _ in range(labels_count):\n",
    "        labels_item = input()\n",
    "        labels.append(labels_item)\n",
    "\n",
    "    dailyCount = int(input().strip())\n",
    "\n",
    "    result = maxCost(cost, labels, dailyCount)\n",
    "\n",
    "    fptr.write(str(result) + '\\n')\n",
    "\n",
    "    fptr.close()"
   ]
  }
 ],
 "metadata": {
  "kernelspec": {
   "display_name": "Python 3.8.8 ('base')",
   "language": "python",
   "name": "python3"
  },
  "language_info": {
   "name": "python",
   "version": "3.8.8"
  },
  "orig_nbformat": 4,
  "vscode": {
   "interpreter": {
    "hash": "f08154012ddadd8e950e6e9e035c7a7b32c136e7647e9b7c77e02eb723a8bedb"
   }
  }
 },
 "nbformat": 4,
 "nbformat_minor": 2
}
