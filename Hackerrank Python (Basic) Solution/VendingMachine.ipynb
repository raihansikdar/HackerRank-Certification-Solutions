{
 "cells": [
  {
   "cell_type": "markdown",
   "metadata": {},
   "source": [
    "#\n",
    "<img src='21.png'>"
   ]
  },
  {
   "cell_type": "markdown",
   "metadata": {},
   "source": [
    "#\n",
    "<img src='22.png'>"
   ]
  },
  {
   "cell_type": "code",
   "execution_count": null,
   "metadata": {},
   "outputs": [],
   "source": [
    "#!/bin/python3\n",
    "\n",
    "import math\n",
    "import os\n",
    "import random\n",
    "import re\n",
    "import sys\n",
    "\n",
    "\n",
    "class VendingMachine():\n",
    "    def __init__(self,var_1,var_2):\n",
    "        self.var_1 = var_1\n",
    "        self.var_2 = var_2\n",
    "\n",
    "    def buy(self,x,y):\n",
    "        if(self.var_1>=x and x*self.var_2<=y):\n",
    "            self.var_1-=x\n",
    "            return y-(x*self.var_2)\n",
    "        else:\n",
    "            if(self.var_1<x):\n",
    "                return \"Not enough items in the machine\"\n",
    "            else:\n",
    "                return \"Not enough coins\"\n",
    "        \n",
    "    pass\n",
    "\n",
    "\n",
    "\n",
    "if __name__ == '__main__':\n",
    "    fptr = open(os.environ['OUTPUT_PATH'], 'w')\n",
    "\n",
    "    num_items, item_coins = map(int, input().split())\n",
    "    machine = VendingMachine(num_items, item_coins)\n",
    "\n",
    "    n = int(input())\n",
    "    for _ in range(n):\n",
    "        num_items, num_coins = map(int, input().split())\n",
    "        try:\n",
    "            change = machine.buy(num_items, num_coins)\n",
    "            fptr.write(str(change) + \"\\n\")\n",
    "        except ValueError as e:\n",
    "            fptr.write(str(e) + \"\\n\")\n",
    "\n",
    "\n",
    "    fptr.close()"
   ]
  }
 ],
 "metadata": {
  "kernelspec": {
   "display_name": "Python 3.8.8 ('base')",
   "language": "python",
   "name": "python3"
  },
  "language_info": {
   "name": "python",
   "version": "3.8.8"
  },
  "orig_nbformat": 4,
  "vscode": {
   "interpreter": {
    "hash": "f08154012ddadd8e950e6e9e035c7a7b32c136e7647e9b7c77e02eb723a8bedb"
   }
  }
 },
 "nbformat": 4,
 "nbformat_minor": 2
}
