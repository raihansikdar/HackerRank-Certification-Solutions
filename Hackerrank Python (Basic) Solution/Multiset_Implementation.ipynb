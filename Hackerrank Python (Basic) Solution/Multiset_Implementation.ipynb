{
 "cells": [
  {
   "cell_type": "markdown",
   "metadata": {},
   "source": [
    "<img src='11.png'>"
   ]
  },
  {
   "cell_type": "markdown",
   "metadata": {},
   "source": [
    "<img src='12.png'>"
   ]
  },
  {
   "cell_type": "code",
   "execution_count": null,
   "metadata": {},
   "outputs": [],
   "source": [
    "#!/bin/python3\n",
    "\n",
    "import math\n",
    "import os\n",
    "import random\n",
    "import re\n",
    "import sys\n",
    "\n",
    "\n",
    "class Multiset:\n",
    "    \n",
    "    def __init__(self):\n",
    "        self.items=[]\n",
    "\n",
    "    def add(self, val):\n",
    "        # adds one occurrence of val from the multiset, if any\n",
    "        self.items.append(val)\n",
    "        pass\n",
    "\n",
    "    def remove(self, val):\n",
    "        # removes one occurrence of val from the multiset, if any\n",
    "        if len(self.items):\n",
    "            if val in self.items:\n",
    "                self.items.remove(val)\n",
    "        pass\n",
    "\n",
    "    def __contains__(self, val):\n",
    "        # returns True when val is in the multiset, else returns False\n",
    "        if val in self.items:\n",
    "            return True\n",
    "        return False\n",
    "    \n",
    "    def __len__(self):\n",
    "        # returns the number of elements in the multiset\n",
    "        return len(self.items)\n",
    "        \n",
    "if __name__ == '__main__':\n",
    "    def performOperations(operations):\n",
    "        m = Multiset()\n",
    "        result = []\n",
    "        for op_str in operations:\n",
    "            elems = op_str.split()\n",
    "            if elems[0] == 'size':\n",
    "                result.append(len(m))\n",
    "            else:\n",
    "                op, val = elems[0], int(elems[1])\n",
    "                if op == 'query':\n",
    "                    result.append(val in m)\n",
    "                elif op == 'add':\n",
    "                    m.add(val)\n",
    "                elif op == 'remove':\n",
    "                    m.remove(val)\n",
    "        return result\n",
    "\n",
    "    q = int(input())\n",
    "    operations = []\n",
    "    for _ in range(q):\n",
    "        operations.append(input())\n",
    "\n",
    "    result = performOperations(operations)\n",
    "    \n",
    "    fptr = open(os.environ['OUTPUT_PATH'], 'w')\n",
    "    fptr.write('\\n'.join(map(str, result)))\n",
    "    fptr.write('\\n')\n",
    "    fptr.close()"
   ]
  }
 ],
 "metadata": {
  "kernelspec": {
   "display_name": "Python 3.8.8 ('base')",
   "language": "python",
   "name": "python3"
  },
  "language_info": {
   "name": "python",
   "version": "3.8.8"
  },
  "orig_nbformat": 4,
  "vscode": {
   "interpreter": {
    "hash": "f08154012ddadd8e950e6e9e035c7a7b32c136e7647e9b7c77e02eb723a8bedb"
   }
  }
 },
 "nbformat": 4,
 "nbformat_minor": 2
}
